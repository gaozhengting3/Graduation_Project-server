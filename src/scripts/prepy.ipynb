{
 "cells": [
  {
   "cell_type": "code",
   "execution_count": 1,
   "metadata": {},
   "outputs": [],
   "source": [
    "import numpy as np\n",
    "import random\n",
    "import matplotlib.pyplot as plt\n",
    "import keras\n",
    "from tensorflow.keras.models import Sequential, Model, load_model\n",
    "from tensorflow.keras.layers import Dense, Dropout, Conv2D, Flatten, MaxPooling2D, Concatenate, Input, GlobalAveragePooling2D\n",
    "from tensorflow.keras.utils import to_categorical\n",
    "import glob\n",
    "import os\n",
    "from PIL import Image\n",
    "import pandas as pd\n",
    "from keras_vggface.vggface import VGGFace\n",
    "import tensorflow as tf\n",
    "from keras import regularizers"
   ]
  },
  {
   "cell_type": "code",
   "execution_count": 2,
   "metadata": {},
   "outputs": [
    {
     "data": {
      "text/plain": [
       "[]"
      ]
     },
     "execution_count": 2,
     "metadata": {},
     "output_type": "execute_result"
    }
   ],
   "source": [
    "IMG_WIDTH = 224\n",
    "IMG_HEIGHT = 224\n",
    "IMG_SIZE = (IMG_WIDTH, IMG_HEIGHT)\n",
    "IMG_SHAPE = (IMG_WIDTH, IMG_HEIGHT, 3)\n",
    "X = []\n",
    "Y = []\n",
    "# 建立ID\n",
    "ID_list = []\n",
    "# root = \"C:\\workspace\\server\"\n",
    "root = os.getcwd()\n",
    "# 所有圖片的路徑 \"C:\\workspace\\python_workspace\\DeepLearning\\detected_face\\*\"\n",
    "users = glob.glob(os.path.join(root,\"private\",\"users_face\",\"*\"))\n",
    "users\n",
    "# for img_path in all_images_path:\n",
    "#     # 取得學生id\n",
    "#     id = img_path.split(\"\\\\\")[-2]\n",
    "#     img = np.array(Image.open(img_path).resize(IMG_SIZE).convert(\"RGB\"))\n",
    "#     X.append(img)\n",
    "#     Y.append(name_map[id])\n",
    "# X = np.array(X)\n",
    "# Y = np.array(Y)\n",
    "# Y = to_categorical(Y)\n",
    "# # 輸出層的結果數\n",
    "# out_dim = Y.shape[1]"
   ]
  },
  {
   "cell_type": "code",
   "execution_count": 3,
   "metadata": {},
   "outputs": [
    {
     "ename": "NameError",
     "evalue": "name 'out_dim' is not defined",
     "output_type": "error",
     "traceback": [
      "\u001b[1;31m---------------------------------------------------------------------------\u001b[0m",
      "\u001b[1;31mNameError\u001b[0m                                 Traceback (most recent call last)",
      "Cell \u001b[1;32mIn[3], line 19\u001b[0m\n\u001b[0;32m     16\u001b[0m x \u001b[38;5;241m=\u001b[39m Dense(\u001b[38;5;241m128\u001b[39m, activation\u001b[38;5;241m=\u001b[39m\u001b[38;5;124m\"\u001b[39m\u001b[38;5;124mrelu\u001b[39m\u001b[38;5;124m\"\u001b[39m)(x)\n\u001b[0;32m     17\u001b[0m model \u001b[38;5;241m=\u001b[39m Model(inputs\u001b[38;5;241m=\u001b[39minputt, outputs\u001b[38;5;241m=\u001b[39mx)\n\u001b[1;32m---> 19\u001b[0m output \u001b[38;5;241m=\u001b[39m Dense(\u001b[43mout_dim\u001b[49m, activation\u001b[38;5;241m=\u001b[39m\u001b[38;5;124m'\u001b[39m\u001b[38;5;124msoftmax\u001b[39m\u001b[38;5;124m'\u001b[39m)(x)\n\u001b[0;32m     21\u001b[0m model \u001b[38;5;241m=\u001b[39m Model(inputs\u001b[38;5;241m=\u001b[39minputt, outputs\u001b[38;5;241m=\u001b[39moutput)\n\u001b[0;32m     23\u001b[0m model\u001b[38;5;241m.\u001b[39mcompile(loss\u001b[38;5;241m=\u001b[39m\u001b[38;5;124m\"\u001b[39m\u001b[38;5;124mcategorical_crossentropy\u001b[39m\u001b[38;5;124m\"\u001b[39m, metrics\u001b[38;5;241m=\u001b[39m[\u001b[38;5;124m'\u001b[39m\u001b[38;5;124maccuracy\u001b[39m\u001b[38;5;124m'\u001b[39m], optimizer\u001b[38;5;241m=\u001b[39m\u001b[38;5;124m'\u001b[39m\u001b[38;5;124madam\u001b[39m\u001b[38;5;124m'\u001b[39m)\n",
      "\u001b[1;31mNameError\u001b[0m: name 'out_dim' is not defined"
     ]
    }
   ],
   "source": [
    "inputt = Input(shape=IMG_SHAPE)\n",
    "\n",
    "base_model = VGGFace(model='resnet50', include_top=False)\n",
    "\n",
    "for x in base_model.layers:\n",
    "    x.trainable = False\n",
    "\n",
    "# 將(224,224,3)的張量當作輸入數據傳給 base_model\n",
    "# 得到 x 為 base_model 最後一層(AveragePooling2D)輸出的特徵\n",
    "x = base_model(inputt)\n",
    "x = Flatten()(x)\n",
    "x = Dense(2048, activation=\"relu\")(x)\n",
    "x = Dense(1024, activation=\"relu\")(x)\n",
    "x = Dense(512, activation=\"relu\")(x)\n",
    "x = Dense(256, activation=\"relu\")(x)\n",
    "x = Dense(128, activation=\"relu\")(x)\n",
    "model = Model(inputs=inputt, outputs=x)\n",
    "\n",
    "output = Dense(out_dim, activation='softmax')(x)\n",
    "\n",
    "model = Model(inputs=inputt, outputs=output)\n",
    "\n",
    "model.compile(loss=\"categorical_crossentropy\", metrics=['accuracy'], optimizer='adam')\n",
    "\n",
    "model.summary()\n",
    "history = model.fit(X, Y, epochs=10, batch_size=32, validation_split=0.1)"
   ]
  },
  {
   "cell_type": "code",
   "execution_count": 4,
   "metadata": {},
   "outputs": [
    {
     "ename": "NameError",
     "evalue": "name 'history' is not defined",
     "output_type": "error",
     "traceback": [
      "\u001b[1;31m---------------------------------------------------------------------------\u001b[0m",
      "\u001b[1;31mNameError\u001b[0m                                 Traceback (most recent call last)",
      "Cell \u001b[1;32mIn[4], line 2\u001b[0m\n\u001b[0;32m      1\u001b[0m \u001b[38;5;66;03m# 顯示訓練和驗證損失\u001b[39;00m\n\u001b[1;32m----> 2\u001b[0m loss \u001b[38;5;241m=\u001b[39m \u001b[43mhistory\u001b[49m\u001b[38;5;241m.\u001b[39mhistory[\u001b[38;5;124m\"\u001b[39m\u001b[38;5;124mloss\u001b[39m\u001b[38;5;124m\"\u001b[39m]\n\u001b[0;32m      3\u001b[0m epochs \u001b[38;5;241m=\u001b[39m \u001b[38;5;28mrange\u001b[39m(\u001b[38;5;241m1\u001b[39m, \u001b[38;5;28mlen\u001b[39m(loss)\u001b[38;5;241m+\u001b[39m\u001b[38;5;241m1\u001b[39m)\n\u001b[0;32m      4\u001b[0m val_loss \u001b[38;5;241m=\u001b[39m history\u001b[38;5;241m.\u001b[39mhistory[\u001b[38;5;124m\"\u001b[39m\u001b[38;5;124mval_loss\u001b[39m\u001b[38;5;124m\"\u001b[39m]\n",
      "\u001b[1;31mNameError\u001b[0m: name 'history' is not defined"
     ]
    }
   ],
   "source": [
    "# 顯示訓練和驗證損失\n",
    "loss = history.history[\"loss\"]\n",
    "epochs = range(1, len(loss)+1)\n",
    "val_loss = history.history[\"val_loss\"]\n",
    "plt.plot(epochs, loss, \"b-\", label=\"Training Loss\")\n",
    "plt.plot(epochs, val_loss, \"r--\", label=\"Validation Loss\")\n",
    "plt.title(\"Training and Validation Loss\")\n",
    "plt.xlabel(\"Epochs\")\n",
    "plt.ylabel(\"Loss\")\n",
    "plt.legend()\n",
    "plt.show()\n",
    "\n",
    "# 顯示訓練和驗證準確度\n",
    "acc = history.history[\"accuracy\"]\n",
    "epochs = range(1, len(acc)+1)\n",
    "val_acc = history.history[\"val_accuracy\"]\n",
    "plt.plot(epochs, acc, \"b-\", label=\"Training Acc\")\n",
    "plt.plot(epochs, val_acc, \"r--\", label=\"Validation Acc\")\n",
    "plt.title(\"Training and Validation Accuracy\")\n",
    "plt.xlabel(\"Epochs\")\n",
    "plt.ylabel(\"Accuracy\")\n",
    "plt.legend()\n",
    "plt.show()\n",
    "\n",
    "# 所有圖片的路徑 \"C:\\workspace\\python_workspace\\DeepLearning\\detected_face\\*\"\n",
    "target_path = glob.glob(os.path.join(root,\"Target\",\"detected_face4\",\"*\"))\n",
    "target = []\n",
    "target_img = []\n",
    "for img_path in target_path:\n",
    "    imgg = Image.open(img_path).resize(IMG_SIZE).convert(\"RGB\")\n",
    "    target_img.append(imgg)\n",
    "    img_array = np.array(imgg)\n",
    "    target.append(img_array)\n",
    "target = np.array(target)\n",
    "\n",
    "plt.figure(figsize=(16,9))\n",
    "count = 1\n",
    "pred = model.predict(target)\n",
    "# 將One hot的Y轉成1維數字陣列，數字代表其type\n",
    "pred = np.argmax(pred, axis=1).astype(int)\n",
    "for i,item in enumerate(target_img):\n",
    "    plt.subplot(1,6,count)\n",
    "    plt.title(pred[i])\n",
    "    plt.axis('off')\n",
    "    plt.imshow(item)\n",
    "    count += 1\n",
    "pred\n",
    "# name_map = {\"hao\":0, \"lo\":1, \"ming\":2, \"ting\":3, \"xiang\":4, \"yan\":5}"
   ]
  },
  {
   "cell_type": "code",
   "execution_count": null,
   "metadata": {},
   "outputs": [],
   "source": [
    "# 存下四人的模型及權重\n",
    "model.save(\"4_people_model.h5\",overwrite = True)"
   ]
  },
  {
   "cell_type": "code",
   "execution_count": null,
   "metadata": {},
   "outputs": [],
   "source": [
    "X = []\n",
    "Y = []\n",
    "# 將每個名字都編號\n",
    "name_map = {\"hao\":0, \"lo\":1, \"ming\":2, \"ting\":3, \"xiang\":4, \"yan\":5}\n",
    "# root = \"C:\\workspace\\python_workspace\\DeepLearning\"\n",
    "root = os.getcwd()\n",
    "# 所有圖片的路徑 \"C:\\workspace\\python_workspace\\DeepLearning\\detected_face\\*\"\n",
    "all_images_path = glob.glob(os.path.join(root,\"detected_face6\",\"*\",\"*\"))\n",
    "for img_path in all_images_path:\n",
    "    # 取得學生id\n",
    "    id = img_path.split(\"\\\\\")[-2]\n",
    "    img = np.array(Image.open(img_path).resize(IMG_SIZE).convert(\"RGB\"))\n",
    "    X.append(img)\n",
    "    Y.append(name_map[id])\n",
    "X = np.array(X)\n",
    "Y = np.array(Y)\n",
    "Y = to_categorical(Y)\n",
    "# 輸出層的結果數\n",
    "out_dim = Y.shape[1]"
   ]
  },
  {
   "cell_type": "code",
   "execution_count": null,
   "metadata": {},
   "outputs": [],
   "source": [
    "# 載入模型及權重\n",
    "base_model4 = load_model(\"4_people_model.h5\")\n",
    "base_model4.summary()\n",
    "# 因為改變輸出的數量，所以不取輸出層的結果\n",
    "x = base_model4.layers[-2].output\n",
    "# 改成理想的輸出層\n",
    "output = Dense(6, activation='softmax')(x)\n",
    "# 將數入層連接輸出層以建立出新的模型\n",
    "model = Model(inputs=base_model4.input, outputs=output)\n",
    "model.compile(loss=\"categorical_crossentropy\", metrics=['accuracy'], optimizer='adam')\n",
    "\n",
    "model.summary()\n",
    "history = model.fit(X, Y, epochs=10, batch_size=32, validation_split=0.1)"
   ]
  },
  {
   "cell_type": "code",
   "execution_count": null,
   "metadata": {},
   "outputs": [],
   "source": [
    "# 顯示訓練和驗證損失\n",
    "loss = history.history[\"loss\"]\n",
    "epochs = range(1, len(loss)+1)\n",
    "val_loss = history.history[\"val_loss\"]\n",
    "plt.plot(epochs, loss, \"b-\", label=\"Training Loss\")\n",
    "plt.plot(epochs, val_loss, \"r--\", label=\"Validation Loss\")\n",
    "plt.title(\"Training and Validation Loss\")\n",
    "plt.xlabel(\"Epochs\")\n",
    "plt.ylabel(\"Loss\")\n",
    "plt.legend()\n",
    "plt.show()\n",
    "\n",
    "# 顯示訓練和驗證準確度\n",
    "acc = history.history[\"accuracy\"]\n",
    "epochs = range(1, len(acc)+1)\n",
    "val_acc = history.history[\"val_accuracy\"]\n",
    "plt.plot(epochs, acc, \"b-\", label=\"Training Acc\")\n",
    "plt.plot(epochs, val_acc, \"r--\", label=\"Validation Acc\")\n",
    "plt.title(\"Training and Validation Accuracy\")\n",
    "plt.xlabel(\"Epochs\")\n",
    "plt.ylabel(\"Accuracy\")\n",
    "plt.legend()\n",
    "plt.show()\n",
    "# 所有圖片的路徑 \"C:\\workspace\\python_workspace\\DeepLearning\\detected_face\\*\"\n",
    "target_path = glob.glob(os.path.join(root,\"Target\",\"detected_face6\",\"*\"))\n",
    "target = []\n",
    "target_img = []\n",
    "for img_path in target_path:\n",
    "    imgg = Image.open(img_path).resize(IMG_SIZE).convert(\"RGB\")\n",
    "    target_img.append(imgg)\n",
    "    img_array = np.array(imgg)\n",
    "    target.append(img_array)\n",
    "target = np.array(target)\n",
    "\n",
    "plt.figure(figsize=(16,9))\n",
    "count = 1\n",
    "pred = model.predict(target)\n",
    "# 將One hot的Y轉成1維數字陣列，數字代表其type\n",
    "pred = np.argmax(pred, axis=1).astype(int)\n",
    "for i,item in enumerate(target_img):\n",
    "    plt.subplot(1,6,count)\n",
    "    plt.title(pred[i])\n",
    "    plt.axis('off')\n",
    "    plt.imshow(item)\n",
    "    count += 1\n",
    "pred\n",
    "# name_map = {\"hao\":0, \"lo\":1, \"ming\":2, \"ting\":3, \"xiang\":4, \"yan\":5}"
   ]
  },
  {
   "cell_type": "code",
   "execution_count": null,
   "metadata": {},
   "outputs": [],
   "source": [
    "model.save(\"6_people_model.h5\",overwrite = True)\n",
    "model.save_weights(\"6_people_weights.h5\",overwrite = True)"
   ]
  }
 ],
 "metadata": {
  "kernelspec": {
   "display_name": "Python 3.9.16 ('tf-gpu')",
   "language": "python",
   "name": "python3"
  },
  "language_info": {
   "codemirror_mode": {
    "name": "ipython",
    "version": 3
   },
   "file_extension": ".py",
   "mimetype": "text/x-python",
   "name": "python",
   "nbconvert_exporter": "python",
   "pygments_lexer": "ipython3",
   "version": "3.9.16"
  },
  "orig_nbformat": 4,
  "vscode": {
   "interpreter": {
    "hash": "953746a3ae211882b47148bea2316557f2e60ebfb3e0e70104bf9548685b1c7c"
   }
  }
 },
 "nbformat": 4,
 "nbformat_minor": 2
}
